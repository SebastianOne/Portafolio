{
 "cells": [
  {
   "cell_type": "code",
   "execution_count": 1,
   "id": "5332f039-0005-4c0c-907a-51b824566184",
   "metadata": {},
   "outputs": [],
   "source": [
    "#  se esta importanto todas las librerias requeridas para este ejercicio.\n",
    "import numpy as np\n",
    "import pandas as pd\n",
    "import matplotlib.pyplot as plt\n"
   ]
  },
  {
   "cell_type": "code",
   "execution_count": 2,
   "id": "c63e3e8b-605b-4888-a8f9-16d99835c5be",
   "metadata": {},
   "outputs": [
    {
     "data": {
      "text/html": [
       "<div>\n",
       "<style scoped>\n",
       "    .dataframe tbody tr th:only-of-type {\n",
       "        vertical-align: middle;\n",
       "    }\n",
       "\n",
       "    .dataframe tbody tr th {\n",
       "        vertical-align: top;\n",
       "    }\n",
       "\n",
       "    .dataframe thead th {\n",
       "        text-align: right;\n",
       "    }\n",
       "</style>\n",
       "<table border=\"1\" class=\"dataframe\">\n",
       "  <thead>\n",
       "    <tr style=\"text-align: right;\">\n",
       "      <th></th>\n",
       "      <th>DEPARTAMENTO</th>\n",
       "      <th>MUNICIPIO</th>\n",
       "      <th>CODIGO DANE</th>\n",
       "      <th>ARMAS MEDIOS</th>\n",
       "      <th>FECHA HECHO</th>\n",
       "      <th>GENERO</th>\n",
       "      <th>GRUPO ETARIO</th>\n",
       "      <th>CANTIDAD</th>\n",
       "    </tr>\n",
       "  </thead>\n",
       "  <tbody>\n",
       "    <tr>\n",
       "      <th>0</th>\n",
       "      <td>ANTIOQUIA</td>\n",
       "      <td>GIRARDOTA</td>\n",
       "      <td>5308000</td>\n",
       "      <td>CONTUNDENTES</td>\n",
       "      <td>1/01/2010</td>\n",
       "      <td>FEMENINO</td>\n",
       "      <td>ADULTOS</td>\n",
       "      <td>1</td>\n",
       "    </tr>\n",
       "    <tr>\n",
       "      <th>1</th>\n",
       "      <td>ANTIOQUIA</td>\n",
       "      <td>ITAGUI</td>\n",
       "      <td>5360000</td>\n",
       "      <td>CONTUNDENTES</td>\n",
       "      <td>1/01/2010</td>\n",
       "      <td>FEMENINO</td>\n",
       "      <td>ADULTOS</td>\n",
       "      <td>1</td>\n",
       "    </tr>\n",
       "    <tr>\n",
       "      <th>3</th>\n",
       "      <td>ANTIOQUIA</td>\n",
       "      <td>LA ESTRELLA</td>\n",
       "      <td>5380000</td>\n",
       "      <td>CONTUNDENTES</td>\n",
       "      <td>1/01/2010</td>\n",
       "      <td>FEMENINO</td>\n",
       "      <td>ADULTOS</td>\n",
       "      <td>1</td>\n",
       "    </tr>\n",
       "    <tr>\n",
       "      <th>4</th>\n",
       "      <td>ANTIOQUIA</td>\n",
       "      <td>MEDELLÍN (CT)</td>\n",
       "      <td>5001000</td>\n",
       "      <td>CONTUNDENTES</td>\n",
       "      <td>1/01/2010</td>\n",
       "      <td>FEMENINO</td>\n",
       "      <td>ADULTOS</td>\n",
       "      <td>2</td>\n",
       "    </tr>\n",
       "    <tr>\n",
       "      <th>5</th>\n",
       "      <td>ANTIOQUIA</td>\n",
       "      <td>MEDELLÍN (CT)</td>\n",
       "      <td>5001000</td>\n",
       "      <td>CONTUNDENTES</td>\n",
       "      <td>1/01/2010</td>\n",
       "      <td>FEMENINO</td>\n",
       "      <td>ADULTOS</td>\n",
       "      <td>1</td>\n",
       "    </tr>\n",
       "    <tr>\n",
       "      <th>...</th>\n",
       "      <td>...</td>\n",
       "      <td>...</td>\n",
       "      <td>...</td>\n",
       "      <td>...</td>\n",
       "      <td>...</td>\n",
       "      <td>...</td>\n",
       "      <td>...</td>\n",
       "      <td>...</td>\n",
       "    </tr>\n",
       "    <tr>\n",
       "      <th>722816</th>\n",
       "      <td>VALLE</td>\n",
       "      <td>PALMIRA</td>\n",
       "      <td>76520000</td>\n",
       "      <td>SIN EMPLEO DE ARMAS</td>\n",
       "      <td>31/07/2021</td>\n",
       "      <td>FEMENINO</td>\n",
       "      <td>ADULTOS</td>\n",
       "      <td>1</td>\n",
       "    </tr>\n",
       "    <tr>\n",
       "      <th>722818</th>\n",
       "      <td>VALLE</td>\n",
       "      <td>CALI (CT)</td>\n",
       "      <td>76001000</td>\n",
       "      <td>SIN EMPLEO DE ARMAS</td>\n",
       "      <td>31/07/2021</td>\n",
       "      <td>MASCULINO</td>\n",
       "      <td>NO REPORTADO</td>\n",
       "      <td>1</td>\n",
       "    </tr>\n",
       "    <tr>\n",
       "      <th>722819</th>\n",
       "      <td>VALLE</td>\n",
       "      <td>PALMIRA</td>\n",
       "      <td>76520000</td>\n",
       "      <td>SIN EMPLEO DE ARMAS</td>\n",
       "      <td>31/07/2021</td>\n",
       "      <td>MASCULINO</td>\n",
       "      <td>MENORES</td>\n",
       "      <td>1</td>\n",
       "    </tr>\n",
       "    <tr>\n",
       "      <th>722820</th>\n",
       "      <td>VALLE</td>\n",
       "      <td>PALMIRA</td>\n",
       "      <td>76520000</td>\n",
       "      <td>SIN EMPLEO DE ARMAS</td>\n",
       "      <td>31/07/2021</td>\n",
       "      <td>MASCULINO</td>\n",
       "      <td>ADOLECENTES</td>\n",
       "      <td>1</td>\n",
       "    </tr>\n",
       "    <tr>\n",
       "      <th>722821</th>\n",
       "      <td>VAUPÉS</td>\n",
       "      <td>MITÚ (CT)</td>\n",
       "      <td>97001000</td>\n",
       "      <td>SIN EMPLEO DE ARMAS</td>\n",
       "      <td>31/07/2021</td>\n",
       "      <td>MASCULINO</td>\n",
       "      <td>ADULTOS</td>\n",
       "      <td>1</td>\n",
       "    </tr>\n",
       "  </tbody>\n",
       "</table>\n",
       "<p>469424 rows × 8 columns</p>\n",
       "</div>"
      ],
      "text/plain": [
       "       DEPARTAMENTO      MUNICIPIO  CODIGO DANE         ARMAS MEDIOS  \\\n",
       "0         ANTIOQUIA      GIRARDOTA      5308000         CONTUNDENTES   \n",
       "1         ANTIOQUIA         ITAGUI      5360000         CONTUNDENTES   \n",
       "3         ANTIOQUIA    LA ESTRELLA      5380000         CONTUNDENTES   \n",
       "4         ANTIOQUIA  MEDELLÍN (CT)      5001000         CONTUNDENTES   \n",
       "5         ANTIOQUIA  MEDELLÍN (CT)      5001000         CONTUNDENTES   \n",
       "...             ...            ...          ...                  ...   \n",
       "722816        VALLE        PALMIRA     76520000  SIN EMPLEO DE ARMAS   \n",
       "722818        VALLE      CALI (CT)     76001000  SIN EMPLEO DE ARMAS   \n",
       "722819        VALLE        PALMIRA     76520000  SIN EMPLEO DE ARMAS   \n",
       "722820        VALLE        PALMIRA     76520000  SIN EMPLEO DE ARMAS   \n",
       "722821       VAUPÉS      MITÚ (CT)     97001000  SIN EMPLEO DE ARMAS   \n",
       "\n",
       "       FECHA HECHO     GENERO  GRUPO ETARIO  CANTIDAD  \n",
       "0        1/01/2010   FEMENINO       ADULTOS         1  \n",
       "1        1/01/2010   FEMENINO       ADULTOS         1  \n",
       "3        1/01/2010   FEMENINO       ADULTOS         1  \n",
       "4        1/01/2010   FEMENINO       ADULTOS         2  \n",
       "5        1/01/2010   FEMENINO       ADULTOS         1  \n",
       "...            ...        ...           ...       ...  \n",
       "722816  31/07/2021   FEMENINO       ADULTOS         1  \n",
       "722818  31/07/2021  MASCULINO  NO REPORTADO         1  \n",
       "722819  31/07/2021  MASCULINO       MENORES         1  \n",
       "722820  31/07/2021  MASCULINO   ADOLECENTES         1  \n",
       "722821  31/07/2021  MASCULINO       ADULTOS         1  \n",
       "\n",
       "[469424 rows x 8 columns]"
      ]
     },
     "execution_count": 2,
     "metadata": {},
     "output_type": "execute_result"
    }
   ],
   "source": [
    "# cargamos los tres archivos que tenemos como dataFrames para su correspondiente analicis.\n",
    "df_poblacion_colombia = pd.read_csv(\"./data/poblacion_colombia_2018.csv\", sep=\";\")\n",
    "df_delitosSexuales = pd.read_csv(\"./data/Reporte__Delitos_sexuales_Polic_a_Nacional.csv\")\n",
    "df_delitosSexuales.drop_duplicates()\n",
    "df_delitoSecuestro = pd.read_csv(\"./data/Reporte_Delito_Secuestro_Polic_a_Nacional.csv\")\n",
    "df_delitoSecuestro.drop_duplicates()\n",
    "df_delitoViolenciaIntra = pd.read_csv(\"./data/Reporte_Delito_Violencia_Intrafamiliar_Polic_a_Nacional.csv\")\n",
    "df_delitoViolenciaIntra.drop_duplicates()"
   ]
  },
  {
   "cell_type": "markdown",
   "id": "bc508ae2-2008-4809-9adf-7a10e9fe1ae7",
   "metadata": {
    "tags": []
   },
   "source": [
    "## mostrar las dimenciones de cada dataFrame"
   ]
  },
  {
   "cell_type": "code",
   "execution_count": null,
   "id": "3e4eb37c-b7c6-4999-a721-e99ef1eb46e4",
   "metadata": {},
   "outputs": [],
   "source": [
    "df_delitosSexuales.shape"
   ]
  },
  {
   "cell_type": "code",
   "execution_count": null,
   "id": "aa5d5968-213b-4e8b-9365-d41184bce8be",
   "metadata": {},
   "outputs": [],
   "source": [
    "df_delitoSecuestro.shape"
   ]
  },
  {
   "cell_type": "code",
   "execution_count": null,
   "id": "16d8dbc1-5e54-4a7c-95b7-d768b779c6cb",
   "metadata": {},
   "outputs": [],
   "source": [
    "df_delitoViolenciaIntra.shape"
   ]
  },
  {
   "cell_type": "markdown",
   "id": "5f4bfa0b-0d6a-40f6-a42f-60d2a49ab940",
   "metadata": {},
   "source": [
    "## verificar los tipos de datos de cada columna/serie en cada dataFrame"
   ]
  },
  {
   "cell_type": "code",
   "execution_count": null,
   "id": "07e1c2cc-0f70-4428-a898-7bd1d581138f",
   "metadata": {},
   "outputs": [],
   "source": [
    "df_delitosSexuales.dtypes"
   ]
  },
  {
   "cell_type": "code",
   "execution_count": null,
   "id": "bd0e3443-7063-4516-803e-961f3a37226e",
   "metadata": {},
   "outputs": [],
   "source": [
    "df_delitoSecuestro.dtypes\n"
   ]
  },
  {
   "cell_type": "code",
   "execution_count": null,
   "id": "07c1a39d-a758-4883-a2fe-17fb01a0dbec",
   "metadata": {},
   "outputs": [],
   "source": [
    "df_delitoViolenciaIntra.dtypes"
   ]
  },
  {
   "cell_type": "markdown",
   "id": "23df464d-4928-4d6c-9b71-783a90e9b42f",
   "metadata": {},
   "source": [
    "## imprimir los 10 primeros registro de cada dataFrame"
   ]
  },
  {
   "cell_type": "code",
   "execution_count": null,
   "id": "c82d794c-7fa6-4882-b6dd-820436835afb",
   "metadata": {},
   "outputs": [],
   "source": [
    "df_delitosSexuales.head(10)"
   ]
  },
  {
   "cell_type": "code",
   "execution_count": null,
   "id": "0ee619f1-3036-403c-9fb0-1d15cc077951",
   "metadata": {},
   "outputs": [],
   "source": [
    "df_delitoSecuestro.head(10)"
   ]
  },
  {
   "cell_type": "code",
   "execution_count": null,
   "id": "9e2101c7-55a0-4425-b42b-161c43b4a159",
   "metadata": {},
   "outputs": [],
   "source": [
    "df_delitoViolenciaIntra.head(10)"
   ]
  },
  {
   "cell_type": "markdown",
   "id": "cfa39441-fb70-45b4-87d6-baacec111924",
   "metadata": {
    "tags": []
   },
   "source": [
    "## se convertira la fecha de cada dataFrame a tipo fecha en vez al tipo object en el que esta."
   ]
  },
  {
   "cell_type": "code",
   "execution_count": 3,
   "id": "2d83e71b-c5eb-48c4-acf5-f13bc6405355",
   "metadata": {},
   "outputs": [],
   "source": [
    "df_delitosSexuales[\"FECHA HECHO\"] = pd.to_datetime(df_delitosSexuales[\"FECHA HECHO\"], format='%d/%m/%Y')"
   ]
  },
  {
   "cell_type": "code",
   "execution_count": 4,
   "id": "a7838677-6adf-4dd2-ae3c-f0ee2eb19342",
   "metadata": {},
   "outputs": [],
   "source": [
    "df_delitoSecuestro[\"FECHA HECHO\"] =  pd.to_datetime(df_delitoSecuestro[\"FECHA HECHO\"], format='%d/%m/%Y')"
   ]
  },
  {
   "cell_type": "code",
   "execution_count": 5,
   "id": "09873583-b583-4e1c-85ce-e5343f5b7608",
   "metadata": {},
   "outputs": [],
   "source": [
    "df_delitoViolenciaIntra[\"FECHA HECHO\"] =  pd.to_datetime(df_delitoViolenciaIntra[\"FECHA HECHO\"], format='%d/%m/%Y')"
   ]
  },
  {
   "cell_type": "markdown",
   "id": "b6250feb-ce60-42e1-ac81-4f6b2107afb8",
   "metadata": {
    "tags": []
   },
   "source": [
    "# primer punto: ¿Cuáles han sido los departamentos (TOP 3) más afectados a nivel histórico y en el último año?\n"
   ]
  },
  {
   "cell_type": "code",
   "execution_count": 6,
   "id": "df2b36de-4ebb-4794-8438-2e74809b0651",
   "metadata": {},
   "outputs": [],
   "source": [
    "def primerPuntoSolucion(dataframe):\n",
    "    \n",
    "    def departamentosTotales(x):\n",
    "        departamentos.add(x)\n",
    "    \n",
    "    departamentos = set()\n",
    "    cantidadSumadaXDepartamento = list()\n",
    "    cantidadSumadaXDepartamentoHistorico = list()\n",
    "    dataframe[\"DEPARTAMENTO\"].apply(departamentosTotales)\n",
    "\n",
    "    listaDepartamentos = list(departamentos)\n",
    "    delitosHistorico = dataframe\n",
    "    delitosLastYear= dataframe.loc[dataframe[\"FECHA HECHO\"] >= \"01/09/2020\"]\n",
    "\n",
    "    \n",
    "    for departamento in listaDepartamentos:\n",
    "        cantidadSumadaXDepartamento.append(delitosLastYear.where(delitosLastYear[\"DEPARTAMENTO\"] == departamento)[\"CANTIDAD\"].sum())\n",
    "        cantidadSumadaXDepartamentoHistorico.append(delitosHistorico.where(dataframe[\"DEPARTAMENTO\"] == departamento)[\"CANTIDAD\"].sum())\n",
    "\n",
    "    df_delitosPrimerPunto = pd.DataFrame({\"DEPARTAMENTO\": listaDepartamentos,\"CANTIDAD ULTIMO AÑO\": cantidadSumadaXDepartamento,\"CANTIDAD HISTORICO\": cantidadSumadaXDepartamentoHistorico })\n",
    "    \n",
    "    return df_delitosPrimerPunto\n",
    "    \n",
    "\n",
    "   \n",
    "\n"
   ]
  },
  {
   "cell_type": "code",
   "execution_count": 7,
   "id": "ab699d41-a54e-4bf2-a881-c36b7ac37503",
   "metadata": {},
   "outputs": [
    {
     "data": {
      "text/html": [
       "<div>\n",
       "<style scoped>\n",
       "    .dataframe tbody tr th:only-of-type {\n",
       "        vertical-align: middle;\n",
       "    }\n",
       "\n",
       "    .dataframe tbody tr th {\n",
       "        vertical-align: top;\n",
       "    }\n",
       "\n",
       "    .dataframe thead th {\n",
       "        text-align: right;\n",
       "    }\n",
       "</style>\n",
       "<table border=\"1\" class=\"dataframe\">\n",
       "  <thead>\n",
       "    <tr style=\"text-align: right;\">\n",
       "      <th></th>\n",
       "      <th>DEPARTAMENTO</th>\n",
       "      <th>CANTIDAD ULTIMO AÑO</th>\n",
       "      <th>CANTIDAD HISTORICO</th>\n",
       "    </tr>\n",
       "  </thead>\n",
       "  <tbody>\n",
       "    <tr>\n",
       "      <th>13</th>\n",
       "      <td>CUNDINAMARCA</td>\n",
       "      <td>10594.0</td>\n",
       "      <td>46666.0</td>\n",
       "    </tr>\n",
       "    <tr>\n",
       "      <th>28</th>\n",
       "      <td>ANTIOQUIA</td>\n",
       "      <td>6641.0</td>\n",
       "      <td>28534.0</td>\n",
       "    </tr>\n",
       "    <tr>\n",
       "      <th>16</th>\n",
       "      <td>VALLE</td>\n",
       "      <td>3869.0</td>\n",
       "      <td>25639.0</td>\n",
       "    </tr>\n",
       "  </tbody>\n",
       "</table>\n",
       "</div>"
      ],
      "text/plain": [
       "    DEPARTAMENTO  CANTIDAD ULTIMO AÑO  CANTIDAD HISTORICO\n",
       "13  CUNDINAMARCA              10594.0             46666.0\n",
       "28     ANTIOQUIA               6641.0             28534.0\n",
       "16         VALLE               3869.0             25639.0"
      ]
     },
     "execution_count": 7,
     "metadata": {},
     "output_type": "execute_result"
    }
   ],
   "source": [
    "#delitos_sexuales\n",
    "df_delitosSexualesPrimerPunto = primerPuntoSolucion(df_delitosSexuales).sort_values(by=[\"CANTIDAD ULTIMO AÑO\",\"CANTIDAD HISTORICO\"], ascending=False)\n",
    "df_delitosSexualesPrimerPunto.head(3)"
   ]
  },
  {
   "cell_type": "code",
   "execution_count": 8,
   "id": "e90614a5-2e45-4079-898b-149335f935c2",
   "metadata": {},
   "outputs": [
    {
     "data": {
      "text/html": [
       "<div>\n",
       "<style scoped>\n",
       "    .dataframe tbody tr th:only-of-type {\n",
       "        vertical-align: middle;\n",
       "    }\n",
       "\n",
       "    .dataframe tbody tr th {\n",
       "        vertical-align: top;\n",
       "    }\n",
       "\n",
       "    .dataframe thead th {\n",
       "        text-align: right;\n",
       "    }\n",
       "</style>\n",
       "<table border=\"1\" class=\"dataframe\">\n",
       "  <thead>\n",
       "    <tr style=\"text-align: right;\">\n",
       "      <th></th>\n",
       "      <th>DEPARTAMENTO</th>\n",
       "      <th>CANTIDAD ULTIMO AÑO</th>\n",
       "      <th>CANTIDAD HISTORICO</th>\n",
       "    </tr>\n",
       "  </thead>\n",
       "  <tbody>\n",
       "    <tr>\n",
       "      <th>15</th>\n",
       "      <td>VALLE</td>\n",
       "      <td>40.0</td>\n",
       "      <td>312.0</td>\n",
       "    </tr>\n",
       "    <tr>\n",
       "      <th>26</th>\n",
       "      <td>ANTIOQUIA</td>\n",
       "      <td>28.0</td>\n",
       "      <td>255.0</td>\n",
       "    </tr>\n",
       "    <tr>\n",
       "      <th>12</th>\n",
       "      <td>CUNDINAMARCA</td>\n",
       "      <td>23.0</td>\n",
       "      <td>288.0</td>\n",
       "    </tr>\n",
       "  </tbody>\n",
       "</table>\n",
       "</div>"
      ],
      "text/plain": [
       "    DEPARTAMENTO  CANTIDAD ULTIMO AÑO  CANTIDAD HISTORICO\n",
       "15         VALLE                 40.0               312.0\n",
       "26     ANTIOQUIA                 28.0               255.0\n",
       "12  CUNDINAMARCA                 23.0               288.0"
      ]
     },
     "execution_count": 8,
     "metadata": {},
     "output_type": "execute_result"
    }
   ],
   "source": [
    "#delitos_secuestro\n",
    "df_delitoSecuestroPrimerPunto = primerPuntoSolucion(df_delitoSecuestro).sort_values(by=[\"CANTIDAD ULTIMO AÑO\",\"CANTIDAD HISTORICO\"], ascending=False)\n",
    "df_delitoSecuestroPrimerPunto.head(3)"
   ]
  },
  {
   "cell_type": "code",
   "execution_count": 9,
   "id": "792b5a10-d9de-4795-8c1d-92267adff65d",
   "metadata": {},
   "outputs": [
    {
     "data": {
      "text/html": [
       "<div>\n",
       "<style scoped>\n",
       "    .dataframe tbody tr th:only-of-type {\n",
       "        vertical-align: middle;\n",
       "    }\n",
       "\n",
       "    .dataframe tbody tr th {\n",
       "        vertical-align: top;\n",
       "    }\n",
       "\n",
       "    .dataframe thead th {\n",
       "        text-align: right;\n",
       "    }\n",
       "</style>\n",
       "<table border=\"1\" class=\"dataframe\">\n",
       "  <thead>\n",
       "    <tr style=\"text-align: right;\">\n",
       "      <th></th>\n",
       "      <th>DEPARTAMENTO</th>\n",
       "      <th>CANTIDAD ULTIMO AÑO</th>\n",
       "      <th>CANTIDAD HISTORICO</th>\n",
       "    </tr>\n",
       "  </thead>\n",
       "  <tbody>\n",
       "    <tr>\n",
       "      <th>12</th>\n",
       "      <td>CUNDINAMARCA</td>\n",
       "      <td>70106.0</td>\n",
       "      <td>265036.0</td>\n",
       "    </tr>\n",
       "    <tr>\n",
       "      <th>28</th>\n",
       "      <td>ANTIOQUIA</td>\n",
       "      <td>25195.0</td>\n",
       "      <td>101501.0</td>\n",
       "    </tr>\n",
       "    <tr>\n",
       "      <th>16</th>\n",
       "      <td>VALLE</td>\n",
       "      <td>13393.0</td>\n",
       "      <td>80211.0</td>\n",
       "    </tr>\n",
       "  </tbody>\n",
       "</table>\n",
       "</div>"
      ],
      "text/plain": [
       "    DEPARTAMENTO  CANTIDAD ULTIMO AÑO  CANTIDAD HISTORICO\n",
       "12  CUNDINAMARCA              70106.0            265036.0\n",
       "28     ANTIOQUIA              25195.0            101501.0\n",
       "16         VALLE              13393.0             80211.0"
      ]
     },
     "execution_count": 9,
     "metadata": {},
     "output_type": "execute_result"
    }
   ],
   "source": [
    "#delitos_violencia_intrafamiliar\n",
    "df_delitoViolenciaIntraPrimerPunto = primerPuntoSolucion(df_delitoViolenciaIntra).sort_values(by=[\"CANTIDAD ULTIMO AÑO\",\"CANTIDAD HISTORICO\"], ascending=False)\n",
    "df_delitoViolenciaIntraPrimerPunto.head(3)\n"
   ]
  },
  {
   "cell_type": "markdown",
   "id": "37d65071-2125-4c95-9c91-d9c3db12c52f",
   "metadata": {},
   "source": [
    "# segundo punto: ¿Cuál ha sido históricamente el arma o medio más común para cometer el delito?"
   ]
  },
  {
   "cell_type": "code",
   "execution_count": 10,
   "id": "bc775bd2-6b4c-4bd5-ba50-7606eb59f8db",
   "metadata": {},
   "outputs": [],
   "source": [
    "def segundoPuntoSolucion(dataframe):\n",
    "    armas = set()\n",
    "    cantidadSumadaXarmas = list()\n",
    "    \n",
    "\n",
    "    def armasTotales(x):\n",
    "        armas.add(x)\n",
    "    \n",
    "    dataframe[\"ARMAS MEDIOS\"].apply(armasTotales)\n",
    "    listaArmas = list(armas)\n",
    "    \n",
    "\n",
    "    for arma in listaArmas:\n",
    "        respuesta = dataframe.where(dataframe[\"ARMAS MEDIOS\"] == arma)[\"ARMAS MEDIOS\"].count()\n",
    "        cantidadSumadaXarmas.append(respuesta)\n",
    "    \n",
    "\n",
    "    df_delitosPrimerPunto = pd.DataFrame({\"ARMAS MEDIOS\": listaArmas,\"NUMERO CRIMENES\": cantidadSumadaXarmas })\n",
    "    df_delitosPrimerPunto\n",
    "    return df_delitosPrimerPunto.sort_values(\"NUMERO CRIMENES\",ascending=False)"
   ]
  },
  {
   "cell_type": "code",
   "execution_count": 11,
   "id": "640c538a-7c77-4e20-96e2-c543d34e4ff9",
   "metadata": {},
   "outputs": [
    {
     "data": {
      "text/html": [
       "<div>\n",
       "<style scoped>\n",
       "    .dataframe tbody tr th:only-of-type {\n",
       "        vertical-align: middle;\n",
       "    }\n",
       "\n",
       "    .dataframe tbody tr th {\n",
       "        vertical-align: top;\n",
       "    }\n",
       "\n",
       "    .dataframe thead th {\n",
       "        text-align: right;\n",
       "    }\n",
       "</style>\n",
       "<table border=\"1\" class=\"dataframe\">\n",
       "  <thead>\n",
       "    <tr style=\"text-align: right;\">\n",
       "      <th></th>\n",
       "      <th>ARMAS MEDIOS</th>\n",
       "      <th>NUMERO CRIMENES</th>\n",
       "    </tr>\n",
       "  </thead>\n",
       "  <tbody>\n",
       "    <tr>\n",
       "      <th>10</th>\n",
       "      <td>SIN EMPLEO DE ARMAS</td>\n",
       "      <td>109403</td>\n",
       "    </tr>\n",
       "  </tbody>\n",
       "</table>\n",
       "</div>"
      ],
      "text/plain": [
       "           ARMAS MEDIOS  NUMERO CRIMENES\n",
       "10  SIN EMPLEO DE ARMAS           109403"
      ]
     },
     "execution_count": 11,
     "metadata": {},
     "output_type": "execute_result"
    }
   ],
   "source": [
    "#delitos_sexuales\n",
    "df_delitosSexualesSegundoPunto = segundoPuntoSolucion(df_delitosSexuales)\n",
    "df_delitosSexualesSegundoPunto.head(1)"
   ]
  },
  {
   "cell_type": "code",
   "execution_count": 12,
   "id": "ecc1febc-72ec-412f-8b2b-39564a04b72d",
   "metadata": {},
   "outputs": [
    {
     "data": {
      "text/html": [
       "<div>\n",
       "<style scoped>\n",
       "    .dataframe tbody tr th:only-of-type {\n",
       "        vertical-align: middle;\n",
       "    }\n",
       "\n",
       "    .dataframe tbody tr th {\n",
       "        vertical-align: top;\n",
       "    }\n",
       "\n",
       "    .dataframe thead th {\n",
       "        text-align: right;\n",
       "    }\n",
       "</style>\n",
       "<table border=\"1\" class=\"dataframe\">\n",
       "  <thead>\n",
       "    <tr style=\"text-align: right;\">\n",
       "      <th></th>\n",
       "      <th>ARMAS MEDIOS</th>\n",
       "      <th>NUMERO CRIMENES</th>\n",
       "    </tr>\n",
       "  </thead>\n",
       "  <tbody>\n",
       "    <tr>\n",
       "      <th>0</th>\n",
       "      <td>ARMA BLANCA / CORTOPUNZANTE</td>\n",
       "      <td>986</td>\n",
       "    </tr>\n",
       "  </tbody>\n",
       "</table>\n",
       "</div>"
      ],
      "text/plain": [
       "                  ARMAS MEDIOS  NUMERO CRIMENES\n",
       "0  ARMA BLANCA / CORTOPUNZANTE              986"
      ]
     },
     "execution_count": 12,
     "metadata": {},
     "output_type": "execute_result"
    }
   ],
   "source": [
    "#delitos_secuestro\n",
    "df_delitoSecuestroSegundoPunto = segundoPuntoSolucion(df_delitoSecuestro)\n",
    "df_delitoSecuestroSegundoPunto.head(1)"
   ]
  },
  {
   "cell_type": "code",
   "execution_count": 13,
   "id": "b7186a35-4690-4fe8-aecf-7f28e1d720b4",
   "metadata": {},
   "outputs": [
    {
     "data": {
      "text/html": [
       "<div>\n",
       "<style scoped>\n",
       "    .dataframe tbody tr th:only-of-type {\n",
       "        vertical-align: middle;\n",
       "    }\n",
       "\n",
       "    .dataframe tbody tr th {\n",
       "        vertical-align: top;\n",
       "    }\n",
       "\n",
       "    .dataframe thead th {\n",
       "        text-align: right;\n",
       "    }\n",
       "</style>\n",
       "<table border=\"1\" class=\"dataframe\">\n",
       "  <thead>\n",
       "    <tr style=\"text-align: right;\">\n",
       "      <th></th>\n",
       "      <th>ARMAS MEDIOS</th>\n",
       "      <th>NUMERO CRIMENES</th>\n",
       "    </tr>\n",
       "  </thead>\n",
       "  <tbody>\n",
       "    <tr>\n",
       "      <th>7</th>\n",
       "      <td>CONTUNDENTES</td>\n",
       "      <td>364692</td>\n",
       "    </tr>\n",
       "  </tbody>\n",
       "</table>\n",
       "</div>"
      ],
      "text/plain": [
       "   ARMAS MEDIOS  NUMERO CRIMENES\n",
       "7  CONTUNDENTES           364692"
      ]
     },
     "execution_count": 13,
     "metadata": {},
     "output_type": "execute_result"
    }
   ],
   "source": [
    "#delitos_violencia_intrafamiliar\n",
    "df_delitoViolenciaIntraSegundoPunto = segundoPuntoSolucion(df_delitoViolenciaIntra)\n",
    "df_delitoViolenciaIntraSegundoPunto.head(1)"
   ]
  },
  {
   "cell_type": "markdown",
   "id": "d60f5eb8-663a-4d6d-9394-38447426a8a4",
   "metadata": {},
   "source": [
    "# tercer punto: ¿Cómo es la proporción de géneros y grupos etarios que han estado involucrados en este tipo de delito? ¿Han variado con el paso de los años?"
   ]
  },
  {
   "cell_type": "markdown",
   "id": "50087cdf-e256-4576-a5a5-01b3b1ead06f",
   "metadata": {
    "tags": []
   },
   "source": [
    "### DELITOS_SEXUALES"
   ]
  },
  {
   "cell_type": "markdown",
   "id": "9e5f6dc4-77b6-44fa-bfbc-179ddcceccb6",
   "metadata": {},
   "source": [
    "#### GENERO"
   ]
  },
  {
   "cell_type": "code",
   "execution_count": null,
   "id": "1f63e19e-3888-4dfb-b96f-e8461bf25159",
   "metadata": {},
   "outputs": [],
   "source": [
    "#delitos_sexuales\n",
    "df_delitosSexualesFecha = df_delitosSexuales\n",
    "df_delitosSexualesFecha[\"FECHA HECHO\"] = df_delitosSexualesFecha[\"FECHA HECHO\"].dt.year\n",
    "df_delitosSexualesFecha.groupby([\"FECHA HECHO\",\"GENERO\"])[\"CANTIDAD\"].sum().to_frame().plot(kind=\"bar\")"
   ]
  },
  {
   "cell_type": "markdown",
   "id": "16c6ce8b-e22f-4a3a-8863-74b33dadff01",
   "metadata": {},
   "source": [
    "#### GRUPO ETARIO"
   ]
  },
  {
   "cell_type": "code",
   "execution_count": null,
   "id": "adb3dfaa-885f-4b89-b079-973074a5c2d8",
   "metadata": {},
   "outputs": [],
   "source": [
    "df_delitosSexualesFecha.groupby([\"FECHA HECHO\",\"GRUPO ETARIO\"])[\"CANTIDAD\"].sum().to_frame().plot(kind=\"bar\")\n"
   ]
  },
  {
   "cell_type": "markdown",
   "id": "d0cfcb18-e222-4dcb-8bc2-19154aab7517",
   "metadata": {
    "tags": []
   },
   "source": [
    "### DELITO_SECUESTRO"
   ]
  },
  {
   "cell_type": "markdown",
   "id": "706a4985-5028-424c-aacd-5579c8e9093a",
   "metadata": {},
   "source": [
    "#### GENERO"
   ]
  },
  {
   "cell_type": "code",
   "execution_count": null,
   "id": "c771a546-75c0-43d5-9d81-793b6b7b911c",
   "metadata": {},
   "outputs": [],
   "source": [
    "df_delitoSecuestroFecha = df_delitoSecuestro\n",
    "df_delitoSecuestroFecha[\"FECHA HECHO\"] = df_delitoSecuestroFecha[\"FECHA HECHO\"].dt.year\n",
    "df_delitoSecuestroFecha.groupby([\"FECHA HECHO\",\"GENERO\"])[\"CANTIDAD\"].sum().to_frame().plot(kind=\"bar\")\n",
    "\n"
   ]
  },
  {
   "cell_type": "markdown",
   "id": "e8d3d2e5-6020-4f9f-a95a-db8d8854c65c",
   "metadata": {
    "tags": []
   },
   "source": [
    "#### GRUPO ETARIO"
   ]
  },
  {
   "cell_type": "code",
   "execution_count": null,
   "id": "6c26dd98-66bd-4770-a710-53d23701b6bd",
   "metadata": {},
   "outputs": [],
   "source": [
    "df_delitoSecuestroFecha.groupby([\"FECHA HECHO\",\"GRUPO ETARIO\"])[\"CANTIDAD\"].sum().to_frame().plot(kind=\"bar\")\n"
   ]
  },
  {
   "cell_type": "markdown",
   "id": "e06f0ff2-ac21-4d7b-84f0-1762ba0d7294",
   "metadata": {
    "tags": []
   },
   "source": [
    "### DELITOS_VIOLENCIA_INTRAFAMILIAR"
   ]
  },
  {
   "cell_type": "markdown",
   "id": "01a511f7-2c5b-4e52-8ba2-3f28ded387cf",
   "metadata": {},
   "source": [
    "#### GENERO"
   ]
  },
  {
   "cell_type": "code",
   "execution_count": null,
   "id": "6dcc22ed-bb43-4d6e-9072-f785fc388b3b",
   "metadata": {},
   "outputs": [],
   "source": [
    "df_delitoViolenciaIntraFecha = df_delitoViolenciaIntra\n",
    "df_delitoViolenciaIntraFecha[\"FECHA HECHO\"] = df_delitoViolenciaIntraFecha[\"FECHA HECHO\"].dt.year\n",
    "df_delitoViolenciaIntraFecha.groupby([\"FECHA HECHO\",\"GENERO\"])[\"CANTIDAD\"].sum().to_frame().plot(kind=\"bar\")\n"
   ]
  },
  {
   "cell_type": "markdown",
   "id": "85134bd6-9259-4af2-bdc9-3c74eb3ada72",
   "metadata": {},
   "source": [
    "#### GRUPO ETARIO"
   ]
  },
  {
   "cell_type": "code",
   "execution_count": null,
   "id": "f1de645c-402e-4c71-b505-2d1f6aeb2d8c",
   "metadata": {},
   "outputs": [],
   "source": [
    "df_delitoViolenciaIntraFecha.groupby([\"FECHA HECHO\",\"GRUPO ETARIO\"])[\"CANTIDAD\"].sum().to_frame().plot(kind=\"bar\")"
   ]
  },
  {
   "cell_type": "markdown",
   "id": "fc2d0159-0289-4608-aecc-68db0f5c14b2",
   "metadata": {
    "tags": []
   },
   "source": [
    "# cuarto punto: ¿Se evidencia alguna tendencia para cometer dicho delito en algún mes particular del año?"
   ]
  },
  {
   "cell_type": "code",
   "execution_count": 14,
   "id": "6eea6d01-c25f-490a-92b9-7659d613c15c",
   "metadata": {},
   "outputs": [
    {
     "data": {
      "text/plain": [
       "<AxesSubplot:xlabel='FECHA HECHO'>"
      ]
     },
     "execution_count": 14,
     "metadata": {},
     "output_type": "execute_result"
    },
    {
     "data": {
      "image/png": "[encoded data removed]",
      "text/plain": [
       "<Figure size 432x288 with 1 Axes>"
      ]
     },
     "metadata": {
      "needs_background": "light"
     },
     "output_type": "display_data"
    }
   ],
   "source": [
    "#delitos_sexuales\n",
    "df_delitosSexuales.groupby(df_delitosSexuales[\"FECHA HECHO\"].dt.month)[\"CANTIDAD\"].sum().plot(kind=\"bar\")"
   ]
  },
  {
   "cell_type": "code",
   "execution_count": 15,
   "id": "7754292d-9566-46a5-9c28-c3aec7dec07f",
   "metadata": {},
   "outputs": [
    {
     "data": {
      "text/plain": [
       "<AxesSubplot:xlabel='FECHA HECHO'>"
      ]
     },
     "execution_count": 15,
     "metadata": {},
     "output_type": "execute_result"
    },
    {
     "data": {
      "image/png": "[encoded data removed]",
      "text/plain": [
       "<Figure size 432x288 with 1 Axes>"
      ]
     },
     "metadata": {
      "needs_background": "light"
     },
     "output_type": "display_data"
    }
   ],
   "source": [
    "#delitos_secuestro\n",
    "df_delitoSecuestro.groupby(df_delitoSecuestro[\"FECHA HECHO\"].dt.month)[\"CANTIDAD\"].sum().plot(kind=\"bar\")"
   ]
  },
  {
   "cell_type": "code",
   "execution_count": 16,
   "id": "9dbb4ebc-e4e4-435d-8537-b52a53fe5a36",
   "metadata": {},
   "outputs": [
    {
     "data": {
      "text/plain": [
       "<AxesSubplot:xlabel='FECHA HECHO'>"
      ]
     },
     "execution_count": 16,
     "metadata": {},
     "output_type": "execute_result"
    },
    {
     "data": {
      "image/png": "[encoded data removed]",
      "text/plain": [
       "<Figure size 432x288 with 1 Axes>"
      ]
     },
     "metadata": {
      "needs_background": "light"
     },
     "output_type": "display_data"
    }
   ],
   "source": [
    "#delitos_violencia_intrafamiliar\n",
    "df_delitoViolenciaIntra.groupby(df_delitoViolenciaIntra[\"FECHA HECHO\"].dt.month)[\"CANTIDAD\"].sum().plot(kind=\"bar\")"
   ]
  },
  {
   "cell_type": "markdown",
   "id": "fee61f50-7213-4261-bf83-2afccbb14e11",
   "metadata": {},
   "source": [
    "### cuarto punto.2: Para los casos en los que se disponga del detalle del delito o de una descripción, como por ejemplo en delitos sexuales y secuestro, ¿cuáles son los delitos, descripciones o modalidades más comunes?\n"
   ]
  },
  {
   "cell_type": "code",
   "execution_count": 17,
   "id": "269cdb04-9bb4-4492-8ee0-8787f8629b7c",
   "metadata": {},
   "outputs": [
    {
     "data": {
      "text/plain": [
       "<AxesSubplot:xlabel='delito'>"
      ]
     },
     "execution_count": 17,
     "metadata": {},
     "output_type": "execute_result"
    },
    {
     "data": {
      "image/png": "[encoded data removed]",
      "text/plain": [
       "<Figure size 432x288 with 1 Axes>"
      ]
     },
     "metadata": {
      "needs_background": "light"
     },
     "output_type": "display_data"
    }
   ],
   "source": [
    "#delitos_sexuales\n",
    "df_delitosSexuales.groupby(df_delitosSexuales[\"delito\"]).count().plot(kind=\"bar\")"
   ]
  },
  {
   "cell_type": "code",
   "execution_count": 18,
   "id": "b883a5f6-7f7e-47c3-b467-f21dfd89674e",
   "metadata": {},
   "outputs": [
    {
     "data": {
      "text/plain": [
       "<AxesSubplot:xlabel='DESCRIPCION CONDUCTA'>"
      ]
     },
     "execution_count": 18,
     "metadata": {},
     "output_type": "execute_result"
    },
    {
     "data": {
      "image/png": "[encoded data removed]",
      "text/plain": [
       "<Figure size 432x288 with 1 Axes>"
      ]
     },
     "metadata": {
      "needs_background": "light"
     },
     "output_type": "display_data"
    }
   ],
   "source": [
    "#delitos_secuestro\n",
    "df_delitoSecuestro.groupby(df_delitoSecuestro[\"DESCRIPCION CONDUCTA\"]).count().plot(kind=\"bar\")"
   ]
  },
  {
   "cell_type": "markdown",
   "id": "8a3aecff-e70c-434d-8865-c49f4ee03260",
   "metadata": {},
   "source": [
    "# Bono:  Para tener una mayor significancia estadística de los resultados obtenidos en el punto 1, es importante que normalice las cantidades obtenidas por cantidad de habitantes en el municipio. En este CSV puede obtener la población por departamento para el año 2018. Asuma que la población no ha cambiado con el paso de los años. "
   ]
  },
  {
   "cell_type": "code",
   "execution_count": 28,
   "id": "88ba58ff-557d-47ed-9576-eaaf43ca3bbf",
   "metadata": {
    "tags": []
   },
   "outputs": [
    {
     "data": {
      "text/html": [
       "<div>\n",
       "<style scoped>\n",
       "    .dataframe tbody tr th:only-of-type {\n",
       "        vertical-align: middle;\n",
       "    }\n",
       "\n",
       "    .dataframe tbody tr th {\n",
       "        vertical-align: top;\n",
       "    }\n",
       "\n",
       "    .dataframe thead th {\n",
       "        text-align: right;\n",
       "    }\n",
       "</style>\n",
       "<table border=\"1\" class=\"dataframe\">\n",
       "  <thead>\n",
       "    <tr style=\"text-align: right;\">\n",
       "      <th></th>\n",
       "      <th>DEPARTAMENTO</th>\n",
       "      <th>POBLACION</th>\n",
       "      <th>CANTIDAD ULTIMO AÑO</th>\n",
       "      <th>CANTIDAD HISTORICO</th>\n",
       "    </tr>\n",
       "  </thead>\n",
       "  <tbody>\n",
       "    <tr>\n",
       "      <th>0</th>\n",
       "      <td>CUNDINAMARCA</td>\n",
       "      <td>NaN</td>\n",
       "      <td>10594.0</td>\n",
       "      <td>46666.0</td>\n",
       "    </tr>\n",
       "    <tr>\n",
       "      <th>1</th>\n",
       "      <td>ANTIOQUIA</td>\n",
       "      <td>NaN</td>\n",
       "      <td>6641.0</td>\n",
       "      <td>28534.0</td>\n",
       "    </tr>\n",
       "    <tr>\n",
       "      <th>2</th>\n",
       "      <td>VALLE</td>\n",
       "      <td>NaN</td>\n",
       "      <td>3869.0</td>\n",
       "      <td>25639.0</td>\n",
       "    </tr>\n",
       "    <tr>\n",
       "      <th>3</th>\n",
       "      <td>SANTANDER</td>\n",
       "      <td>NaN</td>\n",
       "      <td>2407.0</td>\n",
       "      <td>16931.0</td>\n",
       "    </tr>\n",
       "    <tr>\n",
       "      <th>4</th>\n",
       "      <td>ATLÁNTICO</td>\n",
       "      <td>NaN</td>\n",
       "      <td>1923.0</td>\n",
       "      <td>11431.0</td>\n",
       "    </tr>\n",
       "    <tr>\n",
       "      <th>5</th>\n",
       "      <td>TOLIMA</td>\n",
       "      <td>NaN</td>\n",
       "      <td>1823.0</td>\n",
       "      <td>8850.0</td>\n",
       "    </tr>\n",
       "    <tr>\n",
       "      <th>6</th>\n",
       "      <td>BOLÍVAR</td>\n",
       "      <td>NaN</td>\n",
       "      <td>1810.0</td>\n",
       "      <td>8395.0</td>\n",
       "    </tr>\n",
       "    <tr>\n",
       "      <th>7</th>\n",
       "      <td>HUILA</td>\n",
       "      <td>NaN</td>\n",
       "      <td>1449.0</td>\n",
       "      <td>10159.0</td>\n",
       "    </tr>\n",
       "    <tr>\n",
       "      <th>8</th>\n",
       "      <td>META</td>\n",
       "      <td>NaN</td>\n",
       "      <td>1367.0</td>\n",
       "      <td>7744.0</td>\n",
       "    </tr>\n",
       "    <tr>\n",
       "      <th>9</th>\n",
       "      <td>BOYACÁ</td>\n",
       "      <td>NaN</td>\n",
       "      <td>1224.0</td>\n",
       "      <td>7805.0</td>\n",
       "    </tr>\n",
       "    <tr>\n",
       "      <th>10</th>\n",
       "      <td>CÓRDOBA</td>\n",
       "      <td>NaN</td>\n",
       "      <td>1180.0</td>\n",
       "      <td>6390.0</td>\n",
       "    </tr>\n",
       "    <tr>\n",
       "      <th>11</th>\n",
       "      <td>NARIÑO</td>\n",
       "      <td>NaN</td>\n",
       "      <td>1112.0</td>\n",
       "      <td>6611.0</td>\n",
       "    </tr>\n",
       "    <tr>\n",
       "      <th>12</th>\n",
       "      <td>RISARALDA</td>\n",
       "      <td>NaN</td>\n",
       "      <td>1101.0</td>\n",
       "      <td>7400.0</td>\n",
       "    </tr>\n",
       "    <tr>\n",
       "      <th>13</th>\n",
       "      <td>CESAR</td>\n",
       "      <td>NaN</td>\n",
       "      <td>1098.0</td>\n",
       "      <td>4823.0</td>\n",
       "    </tr>\n",
       "    <tr>\n",
       "      <th>14</th>\n",
       "      <td>CALDAS</td>\n",
       "      <td>NaN</td>\n",
       "      <td>1084.0</td>\n",
       "      <td>5846.0</td>\n",
       "    </tr>\n",
       "    <tr>\n",
       "      <th>15</th>\n",
       "      <td>CAUCA</td>\n",
       "      <td>NaN</td>\n",
       "      <td>1074.0</td>\n",
       "      <td>6436.0</td>\n",
       "    </tr>\n",
       "    <tr>\n",
       "      <th>16</th>\n",
       "      <td>MAGDALENA</td>\n",
       "      <td>NaN</td>\n",
       "      <td>1063.0</td>\n",
       "      <td>5708.0</td>\n",
       "    </tr>\n",
       "    <tr>\n",
       "      <th>17</th>\n",
       "      <td>NORTE DE SANTANDER</td>\n",
       "      <td>NaN</td>\n",
       "      <td>1050.0</td>\n",
       "      <td>6048.0</td>\n",
       "    </tr>\n",
       "    <tr>\n",
       "      <th>18</th>\n",
       "      <td>SUCRE</td>\n",
       "      <td>NaN</td>\n",
       "      <td>651.0</td>\n",
       "      <td>4593.0</td>\n",
       "    </tr>\n",
       "    <tr>\n",
       "      <th>19</th>\n",
       "      <td>QUINDÍO</td>\n",
       "      <td>NaN</td>\n",
       "      <td>585.0</td>\n",
       "      <td>3441.0</td>\n",
       "    </tr>\n",
       "    <tr>\n",
       "      <th>20</th>\n",
       "      <td>PUTUMAYO</td>\n",
       "      <td>NaN</td>\n",
       "      <td>466.0</td>\n",
       "      <td>2209.0</td>\n",
       "    </tr>\n",
       "    <tr>\n",
       "      <th>21</th>\n",
       "      <td>CAQUETÁ</td>\n",
       "      <td>NaN</td>\n",
       "      <td>462.0</td>\n",
       "      <td>3508.0</td>\n",
       "    </tr>\n",
       "    <tr>\n",
       "      <th>22</th>\n",
       "      <td>GUAJIRA</td>\n",
       "      <td>NaN</td>\n",
       "      <td>432.0</td>\n",
       "      <td>2789.0</td>\n",
       "    </tr>\n",
       "    <tr>\n",
       "      <th>23</th>\n",
       "      <td>CASANARE</td>\n",
       "      <td>NaN</td>\n",
       "      <td>403.0</td>\n",
       "      <td>2360.0</td>\n",
       "    </tr>\n",
       "    <tr>\n",
       "      <th>24</th>\n",
       "      <td>CHOCÓ</td>\n",
       "      <td>NaN</td>\n",
       "      <td>310.0</td>\n",
       "      <td>2027.0</td>\n",
       "    </tr>\n",
       "    <tr>\n",
       "      <th>25</th>\n",
       "      <td>ARAUCA</td>\n",
       "      <td>NaN</td>\n",
       "      <td>299.0</td>\n",
       "      <td>1957.0</td>\n",
       "    </tr>\n",
       "    <tr>\n",
       "      <th>26</th>\n",
       "      <td>GUAVIARE</td>\n",
       "      <td>NaN</td>\n",
       "      <td>182.0</td>\n",
       "      <td>866.0</td>\n",
       "    </tr>\n",
       "    <tr>\n",
       "      <th>27</th>\n",
       "      <td>SAN ANDRÉS</td>\n",
       "      <td>NaN</td>\n",
       "      <td>127.0</td>\n",
       "      <td>455.0</td>\n",
       "    </tr>\n",
       "    <tr>\n",
       "      <th>28</th>\n",
       "      <td>AMAZONAS</td>\n",
       "      <td>NaN</td>\n",
       "      <td>101.0</td>\n",
       "      <td>969.0</td>\n",
       "    </tr>\n",
       "    <tr>\n",
       "      <th>29</th>\n",
       "      <td>VICHADA</td>\n",
       "      <td>NaN</td>\n",
       "      <td>91.0</td>\n",
       "      <td>320.0</td>\n",
       "    </tr>\n",
       "    <tr>\n",
       "      <th>30</th>\n",
       "      <td>GUAINÍA</td>\n",
       "      <td>NaN</td>\n",
       "      <td>57.0</td>\n",
       "      <td>288.0</td>\n",
       "    </tr>\n",
       "    <tr>\n",
       "      <th>31</th>\n",
       "      <td>VAUPÉS</td>\n",
       "      <td>NaN</td>\n",
       "      <td>49.0</td>\n",
       "      <td>188.0</td>\n",
       "    </tr>\n",
       "  </tbody>\n",
       "</table>\n",
       "</div>"
      ],
      "text/plain": [
       "          DEPARTAMENTO  POBLACION  CANTIDAD ULTIMO AÑO  CANTIDAD HISTORICO\n",
       "0         CUNDINAMARCA        NaN              10594.0             46666.0\n",
       "1            ANTIOQUIA        NaN               6641.0             28534.0\n",
       "2                VALLE        NaN               3869.0             25639.0\n",
       "3            SANTANDER        NaN               2407.0             16931.0\n",
       "4            ATLÁNTICO        NaN               1923.0             11431.0\n",
       "5               TOLIMA        NaN               1823.0              8850.0\n",
       "6              BOLÍVAR        NaN               1810.0              8395.0\n",
       "7                HUILA        NaN               1449.0             10159.0\n",
       "8                 META        NaN               1367.0              7744.0\n",
       "9               BOYACÁ        NaN               1224.0              7805.0\n",
       "10             CÓRDOBA        NaN               1180.0              6390.0\n",
       "11              NARIÑO        NaN               1112.0              6611.0\n",
       "12           RISARALDA        NaN               1101.0              7400.0\n",
       "13               CESAR        NaN               1098.0              4823.0\n",
       "14              CALDAS        NaN               1084.0              5846.0\n",
       "15               CAUCA        NaN               1074.0              6436.0\n",
       "16           MAGDALENA        NaN               1063.0              5708.0\n",
       "17  NORTE DE SANTANDER        NaN               1050.0              6048.0\n",
       "18               SUCRE        NaN                651.0              4593.0\n",
       "19             QUINDÍO        NaN                585.0              3441.0\n",
       "20            PUTUMAYO        NaN                466.0              2209.0\n",
       "21             CAQUETÁ        NaN                462.0              3508.0\n",
       "22             GUAJIRA        NaN                432.0              2789.0\n",
       "23            CASANARE        NaN                403.0              2360.0\n",
       "24               CHOCÓ        NaN                310.0              2027.0\n",
       "25              ARAUCA        NaN                299.0              1957.0\n",
       "26            GUAVIARE        NaN                182.0               866.0\n",
       "27          SAN ANDRÉS        NaN                127.0               455.0\n",
       "28            AMAZONAS        NaN                101.0               969.0\n",
       "29             VICHADA        NaN                 91.0               320.0\n",
       "30             GUAINÍA        NaN                 57.0               288.0\n",
       "31              VAUPÉS        NaN                 49.0               188.0"
      ]
     },
     "execution_count": 28,
     "metadata": {},
     "output_type": "execute_result"
    }
   ],
   "source": [
    "df_poblacion_colombia = pd.read_csv(\"./data/poblacion_colombia_2018.csv\", sep=\";\")\n",
    "df_poblacion_colombia = df_poblacion_colombia.rename(columns={'departamento':'DEPARTAMENTO', 'población':'POBLACION'})\n",
    "\n",
    "def pasarFloat(x):\n",
    "    x = x.replace(\".\",\"\")\n",
    "    return pd.to_numeric(x)\n",
    "\n",
    "\n",
    "df_poblacion_colombia[\"POBLACION\"] = df_poblacion_colombia[\"POBLACION\"].apply(pasarFloat)\n",
    "\n",
    "\n",
    "\n",
    "def quintoPuntoSolucion():\n",
    "    for i in range(32):\n",
    "        datoPoblacionCantidad = tablaPuntoBono[\"CANTIDAD ULTIMO AÑO\"].values[i]\n",
    "        datoPoblacionCantidadHistorico = tablaPuntoBono[\"CANTIDAD HISTORICO\"].values[i]\n",
    "        datoPoblacion = float(tablaPuntoBono[\"POBLACION\"].values[i])\n",
    "        tablaPuntoBono[\"CANTIDAD ULTIMO AÑO\"].values[i] = datoPoblacionCantidad/datoPoblacion\n",
    "        tablaPuntoBono[\"CANTIDAD HISTORICO\"].values[i] = datoPoblacionCantidadHistorico/datoPoblacion\n",
    "        \n",
    "\n",
    "\n",
    "tablaPuntoBono = pd.merge(df_poblacion_colombia,df_delitosSexualesPrimerPunto,  how = \"right\" , on=\"DEPARTAMENTO\")\n",
    "tablaPuntoBono\n",
    "        \n",
    "\n",
    "quintoPuntoSolucion()\n",
    "tablaPuntoBono[\"POBLACION\"]\n",
    "\n",
    "\n"
   ]
  },
  {
   "cell_type": "code",
   "execution_count": null,
   "id": "82b3c02c-3428-4320-b6a7-b9f69b858c2c",
   "metadata": {},
   "outputs": [],
   "source": [
    "\n"
   ]
  },
  {
   "cell_type": "code",
   "execution_count": null,
   "id": "2d73a771-9bab-4bd2-9e36-906f403ca584",
   "metadata": {},
   "outputs": [],
   "source": [
    "\n"
   ]
  },
  {
   "cell_type": "code",
   "execution_count": null,
   "id": "fe421a02-5ef5-41c2-a54e-ee518dee1a2b",
   "metadata": {},
   "outputs": [],
   "source": []
  },
  {
   "cell_type": "code",
   "execution_count": null,
   "id": "6853a1e3-2a66-414f-8eaa-5c670fc18c32",
   "metadata": {},
   "outputs": [],
   "source": []
  },
  {
   "cell_type": "code",
   "execution_count": null,
   "id": "6f322926-6612-45e8-99f5-6cc6730ffca3",
   "metadata": {},
   "outputs": [],
   "source": []
  },
  {
   "cell_type": "code",
   "execution_count": null,
   "id": "315f817a-7df4-4189-8d26-f2080fce5816",
   "metadata": {},
   "outputs": [],
   "source": []
  }
 ],
 "metadata": {
  "kernelspec": {
   "display_name": "Python 3 (ipykernel)",
   "language": "python",
   "name": "python3"
  },
  "language_info": {
   "codemirror_mode": {
    "name": "ipython",
    "version": 3
   },
   "file_extension": ".py",
   "mimetype": "text/x-python",
   "name": "python",
   "nbconvert_exporter": "python",
   "pygments_lexer": "ipython3",
   "version": "3.8.10"
  }
 },
 "nbformat": 4,
 "nbformat_minor": 5
}
